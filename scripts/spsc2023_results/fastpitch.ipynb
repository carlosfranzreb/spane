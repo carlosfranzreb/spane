{
 "cells": [
  {
   "attachments": {},
   "cell_type": "markdown",
   "metadata": {},
   "source": [
    "# Analysis of the results\n",
    "\n",
    "Here we analyse the utility results of the StarGANv2-VC. Three experiments were run with different seeds."
   ]
  },
  {
   "cell_type": "code",
   "execution_count": 7,
   "metadata": {},
   "outputs": [],
   "source": [
    "import os\n",
    "import numpy as np"
   ]
  },
  {
   "cell_type": "code",
   "execution_count": 8,
   "metadata": {},
   "outputs": [],
   "source": [
    "# define the dirs that will be included in this analysis\n",
    "log_dirs = [\n",
    "    \"../../logs/whisper_fastpitch/privacy_0\",\n",
    "    \"../../logs/whisper_fastpitch/privacy_1\",\n",
    "    \"../../logs/whisper_fastpitch/privacy_2\",\n",
    "    \"../../logs/whisper_fastpitch/utility\",\n",
    "]"
   ]
  },
  {
   "cell_type": "code",
   "execution_count": 9,
   "metadata": {},
   "outputs": [],
   "source": [
    "# map the components to the keys of the files that will be loaded\n",
    "components = {\n",
    "    \"whisper-small\": 4,\n",
    "    \"whisper-large\": 4,\n",
    "    \"ser-audeering-w2v\": 2,\n",
    "    \"nisqa\": 2,\n",
    "    \"asv-plda/ignorant/results\": 3,\n",
    "    \"asv-plda/lazy-informed/results\": 3,\n",
    "}"
   ]
  },
  {
   "cell_type": "code",
   "execution_count": 10,
   "metadata": {},
   "outputs": [],
   "source": [
    "# aggregate results by the keys of the target and source speakers\n",
    "results = dict()\n",
    "\n",
    "for component, key in components.items():\n",
    "    for log_dir in log_dirs:\n",
    "        file = \"eer.txt\" if \"privacy\" in log_dir else \"all.txt\"\n",
    "        if not os.path.exists(os.path.join(log_dir, \"eval\", component)):\n",
    "            continue\n",
    "        path = os.path.join(log_dir, \"eval\", component, file)\n",
    "        with open(path, \"r\") as f:\n",
    "            next(f)  # skip header\n",
    "\n",
    "            for line in f:\n",
    "                # get the value for the given dataset and key to the results\n",
    "                elements = line.split()\n",
    "                dataset = elements[0]\n",
    "                value = elements[key]\n",
    "                if dataset.endswith(\".txt\"):\n",
    "                    dataset = dataset[:-4]\n",
    "                # add the dataset to the results if needed\n",
    "                if component not in results:\n",
    "                    results[component] = dict()\n",
    "                if dataset not in results[component]:\n",
    "                    results[component][dataset] = list()\n",
    "\n",
    "                results[component][dataset].append(round(float(value), 4))"
   ]
  },
  {
   "cell_type": "code",
   "execution_count": 11,
   "metadata": {},
   "outputs": [],
   "source": [
    "# average the results of the different components\n",
    "avgs = dict()\n",
    "for component in results:\n",
    "    avgs[component] = dict()\n",
    "    for dataset in results[component]:\n",
    "        avgs[component][dataset] = sum(results[component][dataset]) / len(results[component][dataset])"
   ]
  },
  {
   "cell_type": "code",
   "execution_count": 12,
   "metadata": {},
   "outputs": [
    {
     "name": "stdout",
     "output_type": "stream",
     "text": [
      "| | cv-test_3utts | ls-test-clean | edacc-test | ravdess | \n",
      "| --- | --- | --- | --- | --- | \n",
      "| whisper-small | 0.19 | 0.08 | 0.34 | 0.01 | \n",
      "| whisper-large | 0.18 | 0.08 | 0.34 | 0.01 | \n",
      "| ser-audeering-w2v | 1.0 | 0.99 | 0.99 | 1.0 | \n",
      "| nisqa | 3.87 | 3.7 | 3.58 | 3.62 | \n",
      "| asv-plda/ignorant/results | 0.4941 | 0.4863 | 0.4843 | 0.4855 | \n",
      "| asv-plda/lazy-informed/results | 0.4745 | 0.4316 | 0.4675 | 0.5121 | \n"
     ]
    }
   ],
   "source": [
    "# print the results in a markdown table\n",
    "print(\"| |\", end=\" \")  # empty cell in the top left corner\n",
    "# print the dataset names as column headers\n",
    "for dataset in avgs[list(avgs.keys())[0]]:\n",
    "    print(dataset, end=\" | \")\n",
    "print()  # new line\n",
    "\n",
    "# add hyphens to separate the header from the table\n",
    "print(\"|\", end=\" \")\n",
    "for i in range(len(avgs[list(avgs.keys())[0]]) + 1):\n",
    "    print(\"---\", end=\" | \")\n",
    "print()  # new line\n",
    "\n",
    "# print the averages of each dataset for each ASV config\n",
    "for component in avgs:\n",
    "    print(\"|\", end=\" \")\n",
    "    print(component, end=\" | \")\n",
    "    for dataset in avgs[component]:\n",
    "        print(round(avgs[component][dataset], 4), end=\" | \")\n",
    "    print()  # new line\n"
   ]
  },
  {
   "attachments": {},
   "cell_type": "markdown",
   "metadata": {},
   "source": [
    "### Utility & Privacy results\n",
    "\n",
    "| | cv-test_3utts | ls-test-clean | edacc-test | ravdess | \n",
    "| --- | --- | --- | --- | --- |\n",
    "| whisper-small | 0.19 | 0.08 | 0.34 | 0.01 | \n",
    "| whisper-large | 0.18 | 0.08 | 0.34 | 0.01 | \n",
    "| ser-audeering-w2v | 1.0 | 0.99 | 0.99 | 1.0 | \n",
    "| nisqa | 3.87 | 3.7 | 3.58 | 3.62 | \n",
    "| asv-plda/ignorant/results | 0.5 | 0.48 | 0.49 | 0.48 | \n",
    "| asv-plda/lazy-informed/results | 0.47 | 0.43 | 0.47 | 0.51 | "
   ]
  }
 ],
 "metadata": {
  "kernelspec": {
   "display_name": "Python 3",
   "language": "python",
   "name": "python3"
  },
  "language_info": {
   "codemirror_mode": {
    "name": "ipython",
    "version": 3
   },
   "file_extension": ".py",
   "mimetype": "text/x-python",
   "name": "python",
   "nbconvert_exporter": "python",
   "pygments_lexer": "ipython3",
   "version": "3.9.16"
  },
  "orig_nbformat": 4,
  "vscode": {
   "interpreter": {
    "hash": "0303e71b09c4ef6371fdb6bee0728d2bfa84e4cc09a309a2d2b1e6ca43341d44"
   }
  }
 },
 "nbformat": 4,
 "nbformat_minor": 2
}
