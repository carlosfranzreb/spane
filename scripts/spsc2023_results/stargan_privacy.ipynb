{
 "cells": [
  {
   "attachments": {},
   "cell_type": "markdown",
   "metadata": {},
   "source": [
    "# Analysis of the results\n",
    "\n",
    "Here we analyse the EER for the three ASV systems and both attack scenarios"
   ]
  },
  {
   "cell_type": "code",
   "execution_count": 1,
   "metadata": {},
   "outputs": [],
   "source": [
    "import os\n",
    "import numpy as np"
   ]
  },
  {
   "cell_type": "code",
   "execution_count": 2,
   "metadata": {},
   "outputs": [],
   "source": [
    "# define the dirs that will be included in this analysis\n",
    "log_dirs = {\n",
    "    \"ecapa\": [\"../../logs/stargan/asv_ecapa\", \"../../logs/stargan/asv_ecapa_2\", \"../../logs/stargan/asv_ecapa_3\"],\n",
    "    \"ecapa-lda\": [\"../../logs/stargan/asv_ecapa_lda100\", \"../../logs/stargan/asv_ecapa_lda100_2\", \"../../logs/stargan/asv_ecapa_lda100_3\"],\n",
    "    \"xvect-lda\": [\"../../logs/stargan/asv_xvect_lda200\", \"../../logs/stargan/asv_xvect_lda200_2\", \"../../logs/stargan/asv_xvect_lda200_3\"],\n",
    "    \"concat-lda\": [\"../../logs/stargan/asv_concat_lda200\", \"../../logs/stargan/asv_concat_lda200_2\", \"../../logs/stargan/asv_concat_lda200_3\"],\n",
    "}"
   ]
  },
  {
   "cell_type": "code",
   "execution_count": 3,
   "metadata": {},
   "outputs": [],
   "source": [
    "components = {\n",
    "    \"ignorant\": \"eval/asv-plda/ignorant/results/eer.txt\",\n",
    "    \"lazy-informed\": \"eval/asv-plda/lazy-informed/results/eer.txt\",\n",
    "}"
   ]
  },
  {
   "cell_type": "code",
   "execution_count": 4,
   "metadata": {},
   "outputs": [],
   "source": [
    "# aggregate results by the keys of the target and source speakers\n",
    "results = dict()\n",
    "for asv_config in log_dirs:\n",
    "\n",
    "    results[asv_config] = dict()\n",
    "    for log_dir in log_dirs[asv_config]:\n",
    "        for component, eval_file in components.items():\n",
    "\n",
    "            path = os.path.join(log_dir, eval_file)\n",
    "            with open(path, \"r\") as f:\n",
    "                next(f)  # skip header\n",
    "\n",
    "                for line in f:\n",
    "                    # get the value for the given dataset and key to the results\n",
    "                    elements = line.split()\n",
    "                    dataset = elements[0]\n",
    "                    value = elements[-1]\n",
    "                    if dataset.endswith(\".txt\"):\n",
    "                        dataset = dataset[:-4]\n",
    "                    # add the dataset to the results if needed\n",
    "                    if dataset not in results[asv_config]:\n",
    "                        results[asv_config][dataset] = dict()\n",
    "                    # add the component to the results if needed\n",
    "                    if component not in results[asv_config][dataset]:\n",
    "                        results[asv_config][dataset][component] = list()\n",
    "            \n",
    "                    results[asv_config][dataset][component].append(float(value))"
   ]
  },
  {
   "cell_type": "code",
   "execution_count": 5,
   "metadata": {},
   "outputs": [],
   "source": [
    "# average the results of the different components\n",
    "avgs = dict()\n",
    "for asv_config in results:\n",
    "    avgs[asv_config] = dict()\n",
    "    for dataset in results[asv_config]:\n",
    "        avgs[asv_config][dataset] = dict()\n",
    "        for component in results[asv_config][dataset]:\n",
    "            avgs[asv_config][dataset][component] = sum(results[asv_config][dataset][component]) / len(results[asv_config][dataset][component])"
   ]
  },
  {
   "cell_type": "code",
   "execution_count": 6,
   "metadata": {},
   "outputs": [
    {
     "name": "stdout",
     "output_type": "stream",
     "text": [
      "| Dataset | ecapa | ecapa-lda | xvect-lda | concat-lda | \n",
      "| --- | --- | --- | --- | --- | \n",
      "| cv-test_3utts | 34.18 / 33.26 | 36.49 / 33.4 | 27.22 / 21.68 | 33.51 / 21.97 | \n",
      "| ls-test-clean | 32.18 / 36.52 | 34.34 / 36.67 | 32.46 / 26.77 | 38.8 / 26.18 | \n",
      "| edacc-test | 39.91 / 41.43 | 39.8 / 41.17 | 37.89 / 28.4 | 39.99 / 30.15 | \n",
      "| ravdess | 43.42 / 43.84 | 46.8 / 42.75 | 43.66 / 35.81 | 46.62 / 34.48 | \n",
      "| Average | 37.42 / 38.76 | 39.36 / 38.5 | 35.31 / 28.17 | 39.73 / 28.19 | \n"
     ]
    }
   ],
   "source": [
    "# print the results in a markdown table\n",
    "print(\"| Dataset |\", end=\" \")  # empty cell in the top left corner\n",
    "# print the config names as column headers\n",
    "for asv_config in avgs:\n",
    "    print(asv_config, end=\" | \")\n",
    "print()  # new line\n",
    "\n",
    "# add hyphens to separate the header from the table\n",
    "print(\"|\", end=\" \")\n",
    "for i in range(len(avgs[\"ecapa\"]) + 1):\n",
    "    print(\"---\", end=\" | \")\n",
    "print()  # new line\n",
    "\n",
    "# print the averages of each dataset for each ASV config\n",
    "for dataset in avgs[\"ecapa\"]:\n",
    "    print(\"|\", end=\" \")\n",
    "    print(dataset, end=\" | \")\n",
    "    for asv_config in avgs:\n",
    "        print(\" / \".join([str(round(avg*100, 2)) for avg in avgs[asv_config][dataset].values()]), end=\" | \")\n",
    "    print()  # new line\n",
    "\n",
    "# prnt the averages of each asv config\n",
    "print(\"| Average |\", end=\" \")\n",
    "for asv_config in avgs:\n",
    "    total_sum = np.zeros(2)\n",
    "    for dataset in avgs[asv_config]:\n",
    "        total_sum += np.array(list(avgs[asv_config][dataset].values()))\n",
    "    dataset_avgs = total_sum / len(avgs[asv_config])\n",
    "    print(\" / \".join([str(round(avg*100, 2)) for avg in dataset_avgs]), end=\" | \")\n",
    "print()  # new line\n"
   ]
  },
  {
   "attachments": {},
   "cell_type": "markdown",
   "metadata": {},
   "source": [
    "### EERs for each ASV config\n",
    "\n",
    "| Dataset | ecapa | ecapa-lda | xvect-lda | concat-lda | \n",
    "| --- | --- | --- | --- | --- | \n",
    "| cv-test_3utts | 34.18 / 33.26 | 36.49 / 33.4 | 27.22 / 21.68 | 33.51 / 21.97 | \n",
    "| ls-test-clean | 32.18 / 36.52 | 34.34 / 36.67 | 32.46 / 26.77 | 38.8 / 26.18 | \n",
    "| edacc-test | 39.91 / 41.43 | 39.8 / 41.17 | 37.89 / 28.4 | 39.99 / 30.15 | \n",
    "| ravdess | 43.42 / 43.84 | 46.8 / 42.75 | 43.66 / 35.81 | 46.62 / 34.48 | \n",
    "| Average | 37.42 / 38.76 | 39.36 / 38.5 | 35.31 / 28.17 | 39.73 / 28.19 | "
   ]
  }
 ],
 "metadata": {
  "kernelspec": {
   "display_name": "Python 3",
   "language": "python",
   "name": "python3"
  },
  "language_info": {
   "codemirror_mode": {
    "name": "ipython",
    "version": 3
   },
   "file_extension": ".py",
   "mimetype": "text/x-python",
   "name": "python",
   "nbconvert_exporter": "python",
   "pygments_lexer": "ipython3",
   "version": "3.9.16"
  },
  "orig_nbformat": 4,
  "vscode": {
   "interpreter": {
    "hash": "0303e71b09c4ef6371fdb6bee0728d2bfa84e4cc09a309a2d2b1e6ca43341d44"
   }
  }
 },
 "nbformat": 4,
 "nbformat_minor": 2
}
